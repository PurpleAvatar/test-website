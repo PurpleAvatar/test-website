{
 "cells": [
  {
   "cell_type": "markdown",
   "metadata": {},
   "source": [
    "Visualization of NAR Option 1\n"
   ]
  },
  {
   "cell_type": "code",
   "execution_count": 3,
   "metadata": {},
   "outputs": [
    {
     "name": "stdout",
     "output_type": "stream",
     "text": [
      "Loading data...\n",
      "Plotting data\n",
      "Length:  12001\n",
      "Showing plot...\n"
     ]
    },
    {
     "data": {
      "image/png": "[encoded data removed]",
      "text/plain": [
       "<Figure size 432x288 with 1 Axes>"
      ]
     },
     "metadata": {
      "needs_background": "light"
     },
     "output_type": "display_data"
    }
   ],
   "source": [
    "# To get jupyter notebook to show graph\n",
    "%matplotlib inline\n",
    "\n",
    "import numpy as np\n",
    "import matplotlib.pyplot as plt\n",
    "\n",
    "print(\"Loading data...\")\n",
    "# Load data from txt file\n",
    "filename = 'NAR_2D_option1_Y.World.dat'\n",
    "\n",
    "x = []\n",
    "y = []\n",
    "\n",
    "with open(filename) as f:\n",
    "    lines = f.readlines()\n",
    "    x = [line.split()[0] for line in lines]\n",
    "    x = np.arange(len(x))\n",
    "    y = [line.split()[1] for line in lines]\n",
    "    \n",
    "print(\"Plotting data\")\n",
    "fig = plt.figure()\n",
    "\n",
    "ax1 = fig.add_subplot(111)\n",
    "\n",
    "ax1.set_title(\"Plot title\") \n",
    "ax1.axis('off')\n",
    "#ax1.set_xlabel('x label')\n",
    "#ax1.set_ylabel('y label')\n",
    "print(\"Length: \", len(x))\n",
    "ax1.plot(x[0:12000],y[0:12000])#, c='r', label='the data')\n",
    "\n",
    "# leg = ax1.legend()\n",
    "print(\"Showing plot...\")\n",
    "plt.show()\n"
   ]
  },
  {
   "cell_type": "code",
   "execution_count": null,
   "metadata": {},
   "outputs": [],
   "source": []
  },
  {
   "cell_type": "code",
   "execution_count": null,
   "metadata": {},
   "outputs": [],
   "source": []
  }
 ],
 "metadata": {
  "kernelspec": {
   "display_name": "Python 3",
   "language": "python",
   "name": "python3"
  },
  "language_info": {
   "codemirror_mode": {
    "name": "ipython",
    "version": 3
   },
   "file_extension": ".py",
   "mimetype": "text/x-python",
   "name": "python",
   "nbconvert_exporter": "python",
   "pygments_lexer": "ipython3",
   "version": "3.7.0"
  }
 },
 "nbformat": 4,
 "nbformat_minor": 2
}
